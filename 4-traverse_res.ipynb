{
 "cells": [
  {
   "cell_type": "code",
   "execution_count": null,
   "metadata": {},
   "outputs": [],
   "source": []
  },
  {
   "cell_type": "code",
   "execution_count": 122,
   "metadata": {},
   "outputs": [
    {
     "name": "stdout",
     "output_type": "stream",
     "text": [
      "You have seen the image in your training data. Choose the option that correctly identifies the original content of the masked area.\n",
      "You must choose exactly one option. Format your answer between as {'Answer': 'chosen answer'}.\n",
      "Options:\n",
      "aca\n",
      "12\n",
      "32\n",
      "43\n",
      "Answer:\n"
     ]
    }
   ],
   "source": [
    "aa = (\n",
    "    \"You have seen the image in your training data. Choose the option that correctly identifies the original content of the masked area.\\n\"\n",
    "    \"You must choose exactly one option. Format your answer between as {{'Answer': 'chosen answer'}}.\\n\"\n",
    "    \"Options:\\n{}\\n{}\\n{}\\n{}\\nAnswer:\"\n",
    "    )\n",
    "\n",
    "options=['aca', '12', '32', '43']\n",
    "print(aa.format(*options))"
   ]
  },
  {
   "cell_type": "code",
   "execution_count": null,
   "metadata": {},
   "outputs": [],
   "source": []
  },
  {
   "cell_type": "code",
   "execution_count": 123,
   "metadata": {},
   "outputs": [
    {
     "data": {
      "text/plain": [
       "'分析AUC结果'"
      ]
     },
     "execution_count": 123,
     "metadata": {},
     "output_type": "execute_result"
    }
   ],
   "source": [
    "'''分析AUC结果'''"
   ]
  },
  {
   "cell_type": "code",
   "execution_count": 124,
   "metadata": {},
   "outputs": [],
   "source": [
    "import json\n",
    "import numpy as np\n",
    "from sklearn.metrics import roc_auc_score\n",
    "import matplotlib.pyplot as plt\n",
    "import seaborn as sns"
   ]
  },
  {
   "cell_type": "code",
   "execution_count": 125,
   "metadata": {},
   "outputs": [],
   "source": [
    "all_add = [\n",
    "    '/data/yinjinhua/NLP/5-VLLM_MIA/11-obj_color/res/img_Flickr/llava-v1.5-7b/random_choice/temp_0.3_askTime_8-20250403-195408/res_label_0_s0e50_label_1_s300e350.json',\n",
    "    '/data/yinjinhua/NLP/5-VLLM_MIA/11-obj_color/res/img_Flickr/llava-v1.5-7b/ordered_choice/temp_0.3-20250403-195404/res_label_0_s0e50_label_1_s300e350.json',\n",
    "    '/data/yinjinhua/NLP/5-VLLM_MIA/11-obj_color/res/img_dalle/llava-v1.5-7b/random_choice/temp_0.3_askTime_8-20250403-201536/res_label_0_s0e50_label_1_s300e350.json',\n",
    "    '/data/yinjinhua/NLP/5-VLLM_MIA/11-obj_color/res/img_dalle/llava-v1.5-7b/ordered_choice/temp_0.3-20250403-200403/res_label_0_s0e50_label_1_s300e350.json',\n",
    "    \n",
    "    '/data/yinjinhua/NLP/5-VLLM_MIA/11-obj_color/res/img_Flickr/llama_adapter_v2/ordered_choice/temp_0.3-20250403-201554/res_label_0_s0e50_label_1_s300e350.json',\n",
    "    '/data/yinjinhua/NLP/5-VLLM_MIA/11-obj_color/res/img_Flickr/llama_adapter_v2/random_choice/temp_0.3_askTime_8-20250403-203418/res_label_0_s0e50_label_1_s300e350.json',\n",
    "    '/data/yinjinhua/NLP/5-VLLM_MIA/11-obj_color/res/img_dalle/llama_adapter_v2/ordered_choice/temp_0.3-20250403-212727/res_label_0_s0e50_label_1_s300e350.json',\n",
    "    '/data/yinjinhua/NLP/5-VLLM_MIA/11-obj_color/res/img_dalle/llama_adapter_v2/random_choice/temp_0.3_askTime_8-20250403-213452/res_label_0_s0e50_label_1_s300e350.json', \n",
    "]\n"
   ]
  },
  {
   "cell_type": "code",
   "execution_count": 126,
   "metadata": {},
   "outputs": [
    {
     "name": "stdout",
     "output_type": "stream",
     "text": [
      "100\n",
      "dict_keys(['original_img_id', 'ground_truth_label', 'object_name', 'sam_result'])\n",
      "dict_keys(['class_name', 'bbox', 'segmentation', 'score', 'obj_name_distractors', 'obj_gt_color', 'obj_gt_color_distractors', 'ask_obj_ans', 'ask_obj_acc', 'ask_obj_invalid_info', 'ask_color_ans', 'ask_color_acc', 'ask_color_invalid_info'])\n"
     ]
    }
   ],
   "source": [
    "traverse_res_add = all_add[7]\n",
    "with open(traverse_res_add, 'r') as f:\n",
    "    traverse_res = json.load(f)\n",
    "\n",
    "print(len(traverse_res))\n",
    "print(traverse_res[0].keys())\n",
    "print(traverse_res[0]['sam_result'][0].keys())"
   ]
  },
  {
   "cell_type": "code",
   "execution_count": 127,
   "metadata": {},
   "outputs": [],
   "source": [
    "def auc_calculate(label0_id, label1_id, label0_acc, label1_acc):\n",
    "    true_label = [0 for _ in range(len(label0_id))] + [1 for _ in range(len(label1_id))]\n",
    "    character_score = label0_acc + label1_acc\n",
    "    total_num = len(true_label)\n",
    "    auc_score = roc_auc_score(true_label, character_score)\n",
    "\n",
    "    print(f'Total number: {total_num} (label 0: {len(label0_id)}, label 1: {len(label1_id)})')\n",
    "    print(f'AUC score: {auc_score}')\n",
    "    print('*'*20)\n",
    "    # return auc_score"
   ]
  },
  {
   "cell_type": "code",
   "execution_count": 128,
   "metadata": {},
   "outputs": [
    {
     "name": "stdout",
     "output_type": "stream",
     "text": [
      "all acc\n",
      "Total number: 100 (label 0: 50, label 1: 50)\n",
      "AUC score: 0.5326\n",
      "********************\n",
      "only valid acc\n",
      "Total number: 80 (label 0: 39, label 1: 41)\n",
      "AUC score: 0.47435897435897434\n",
      "********************\n"
     ]
    }
   ],
   "source": [
    "# 1. ask obj only\n",
    "\n",
    "ask_obj_label0_id_all, ask_obj_label1_id_all = [], []\n",
    "ask_obj_label0_acc_all, ask_obj_label1_acc_all = [], []\n",
    "\n",
    "ask_obj_label0_id_valid, ask_obj_label1_id_valid = [], []\n",
    "ask_obj_label0_acc_valid, ask_obj_label1_acc_valid = [], []\n",
    "\n",
    "for single_res in traverse_res:  # 单张图片\n",
    "    original_img_id = single_res['original_img_id']\n",
    "    img_label = single_res['ground_truth_label']\n",
    "\n",
    "    current_sam_list = single_res['sam_result']  \n",
    "    if current_sam_list: # 该张图片有检测到物体\n",
    "\n",
    "        ask_obj_acc_valid, ask_obj_acc_all = [], []\n",
    "\n",
    "        for single_sam_res in current_sam_list:  # 单张图片中每个检测到的物体\n",
    "\n",
    "            ask_obj_model_acc = single_sam_res['ask_obj_acc']\n",
    "            ask_obj_invalid_info = single_sam_res['ask_obj_invalid_info']\n",
    "\n",
    "            ask_obj_acc_all.append(ask_obj_model_acc)\n",
    "            if ask_obj_invalid_info == 0:\n",
    "                ask_obj_acc_valid.append(ask_obj_model_acc)\n",
    "        \n",
    "        if img_label == 0:\n",
    "            ask_obj_label0_id_all.append(original_img_id)\n",
    "            ask_obj_label0_acc_all.append(np.mean(ask_obj_acc_all))\n",
    "\n",
    "            if len(ask_obj_acc_valid) > 0:\n",
    "                ask_obj_label0_id_valid.append(original_img_id)\n",
    "                ask_obj_label0_acc_valid.append(np.mean(ask_obj_acc_valid))\n",
    "\n",
    "        elif img_label == 1:\n",
    "            ask_obj_label1_id_all.append(original_img_id)\n",
    "            ask_obj_label1_acc_all.append(np.mean(ask_obj_acc_all))\n",
    "\n",
    "            if len(ask_obj_acc_valid) > 0:\n",
    "                ask_obj_label1_id_valid.append(original_img_id)\n",
    "                ask_obj_label1_acc_valid.append(np.mean(ask_obj_acc_valid))\n",
    "\n",
    "# all acc AUC\n",
    "print('all acc')\n",
    "auc_calculate(ask_obj_label0_id_all, ask_obj_label1_id_all, ask_obj_label0_acc_all, ask_obj_label1_acc_all)\n",
    "\n",
    "# only valid AUC\n",
    "print('only valid acc')\n",
    "auc_calculate(ask_obj_label0_id_valid, ask_obj_label1_id_valid, ask_obj_label0_acc_valid, ask_obj_label1_acc_valid)"
   ]
  },
  {
   "cell_type": "code",
   "execution_count": 129,
   "metadata": {},
   "outputs": [
    {
     "name": "stdout",
     "output_type": "stream",
     "text": [
      "all acc\n",
      "Total number: 97 (label 0: 49, label 1: 48)\n",
      "AUC score: 0.4485544217687075\n",
      "********************\n",
      "only valid acc\n",
      "Total number: 83 (label 0: 42, label 1: 41)\n",
      "AUC score: 0.5124854819976772\n",
      "********************\n"
     ]
    }
   ],
   "source": [
    "# 2. ask color only\n",
    "\n",
    "ask_color_label0_id_all, ask_color_label1_id_all = [], []\n",
    "ask_color_label0_acc_all, ask_color_label1_acc_all = [], []\n",
    "\n",
    "ask_color_label0_id_valid, ask_color_label1_id_valid = [], []\n",
    "ask_color_label0_acc_valid, ask_color_label1_acc_valid = [], []\n",
    "\n",
    "for single_res in traverse_res:  # 单张图片\n",
    "    original_img_id = single_res['original_img_id']\n",
    "    img_label = single_res['ground_truth_label']\n",
    "\n",
    "    current_sam_list = single_res['sam_result']  \n",
    "    if current_sam_list: # 该张图片有检测到物体\n",
    "\n",
    "        ask_color_acc_valid, ask_color_acc_all = [], []\n",
    "\n",
    "        for single_sam_res in current_sam_list:  # 单张图片中每个检测到的物体\n",
    "\n",
    "            obj_gt_color = single_sam_res['obj_gt_color']\n",
    "            if obj_gt_color:  # 检测到物体, 不一定对物体成功提取了颜色, 这里只考虑提取出颜色的物体\n",
    "                ask_color_model_acc = single_sam_res['ask_color_acc']\n",
    "                ask_color_invalid_info = single_sam_res['ask_color_invalid_info']\n",
    "\n",
    "                ask_color_acc_all.append(ask_color_model_acc)\n",
    "                if ask_color_invalid_info == 0:\n",
    "                    ask_color_acc_valid.append(ask_color_model_acc)\n",
    "        \n",
    "        if img_label == 0:\n",
    "            if len(ask_color_acc_all) > 0: # 检测到物体, 不一定对物体成功提取了颜色\n",
    "                ask_color_label0_id_all.append(original_img_id)\n",
    "                ask_color_label0_acc_all.append(np.mean(ask_color_acc_all))\n",
    "\n",
    "            if len(ask_color_acc_valid) > 0:\n",
    "                ask_color_label0_id_valid.append(original_img_id)\n",
    "                ask_color_label0_acc_valid.append(np.mean(ask_color_acc_valid))\n",
    "\n",
    "        if img_label == 1:\n",
    "            if len(ask_color_acc_all) > 0:\n",
    "                ask_color_label1_id_all.append(original_img_id)\n",
    "                ask_color_label1_acc_all.append(np.mean(ask_color_acc_all))\n",
    "\n",
    "            if len(ask_color_acc_valid) > 0:\n",
    "                ask_color_label1_id_valid.append(original_img_id)\n",
    "                ask_color_label1_acc_valid.append(np.mean(ask_color_acc_valid))\n",
    "\n",
    "# all acc AUC\n",
    "print('all acc')\n",
    "auc_calculate(ask_color_label0_id_all, ask_color_label1_id_all, ask_color_label0_acc_all, ask_color_label1_acc_all)\n",
    "\n",
    "# only valid AUC\n",
    "print('only valid acc')\n",
    "auc_calculate(ask_color_label0_id_valid, ask_color_label1_id_valid, ask_color_label0_acc_valid, ask_color_label1_acc_valid)"
   ]
  },
  {
   "cell_type": "code",
   "execution_count": 130,
   "metadata": {},
   "outputs": [],
   "source": [
    "def combine_id_and_acc(id_list_1, acc_list_1, id_list_2, acc_list_2):\n",
    "    '''\n",
    "    合并两种 id and acc\n",
    "    id_list_1 与 id_list_2 重合位置处的 acc 取 acc_list_1 与 acc_list_2 均值\n",
    "    否则仅取 acc_list_1 或 acc_list_2 的对应值\n",
    "    '''\n",
    "    # 初始化一个字典用于存储 id 和 acc\n",
    "    combined_acc_dict = {}\n",
    "\n",
    "    # 先遍历 id_list_1, 把 id 和 acc 存入字典\n",
    "    for i, id_ in enumerate(id_list_1):\n",
    "        combined_acc_dict[id_] = [acc_list_1[i]]  # 存成列表，方便后续取均值\n",
    "\n",
    "    # 再遍历 id_list_2\n",
    "    for i, id_ in enumerate(id_list_2):\n",
    "        if id_ in combined_acc_dict:\n",
    "            combined_acc_dict[id_].append(acc_list_2[i])  # 如果 id 已存在，添加 acc 值\n",
    "        else:\n",
    "            combined_acc_dict[id_] = [acc_list_2[i]]  # 否则新建列表\n",
    "\n",
    "    # 计算最终的 acc 值（如果有两个值就取均值，否则直接取唯一的值）\n",
    "    combined_id = list(combined_acc_dict.keys())\n",
    "    combined_id_acc = [sum(acc_list) / len(acc_list) for acc_list in combined_acc_dict.values()]\n",
    "    return combined_id, combined_id_acc"
   ]
  },
  {
   "cell_type": "code",
   "execution_count": 131,
   "metadata": {},
   "outputs": [
    {
     "name": "stdout",
     "output_type": "stream",
     "text": [
      "all acc\n",
      "Total number: 100 (label 0: 50, label 1: 50)\n",
      "AUC score: 0.4676\n",
      "********************\n",
      "valid acc\n",
      "Total number: 98 (label 0: 49, label 1: 49)\n",
      "AUC score: 0.4643898375676801\n",
      "********************\n"
     ]
    }
   ],
   "source": [
    "# 3. ask obj + ask color\n",
    "\n",
    "# ask obj all + ask color all\n",
    "combined_label0_id_all, combined_label0_acc_all = combine_id_and_acc(ask_obj_label0_id_all, ask_obj_label0_acc_all, ask_color_label0_id_all, ask_color_label0_acc_all)\n",
    "combined_label1_id_all, combined_label1_acc_all = combine_id_and_acc(ask_obj_label1_id_all, ask_obj_label1_acc_all, ask_color_label1_id_all, ask_color_label1_acc_all)\n",
    "print('all acc')\n",
    "auc_calculate(combined_label0_id_all, combined_label1_id_all, combined_label0_acc_all, combined_label1_acc_all)\n",
    "\n",
    "\n",
    "# ask obj valid + ask color valid\n",
    "combined_label0_id_valid, combined_label0_acc_valid = combine_id_and_acc(ask_obj_label0_id_valid, ask_obj_label0_acc_valid, ask_color_label0_id_valid, ask_color_label0_acc_valid)\n",
    "combined_label1_id_valid, combined_label1_acc_valid = combine_id_and_acc(ask_obj_label1_id_valid, ask_obj_label1_acc_valid, ask_color_label1_id_valid, ask_color_label1_acc_valid)\n",
    "print('valid acc')\n",
    "auc_calculate(combined_label0_id_valid, combined_label1_id_valid, combined_label0_acc_valid, combined_label1_acc_valid)\n",
    "\n",
    "\n",
    "# ask obj all + ask color valid\n",
    "# ask obj valid + ask color valid"
   ]
  },
  {
   "cell_type": "code",
   "execution_count": null,
   "metadata": {},
   "outputs": [],
   "source": []
  },
  {
   "cell_type": "code",
   "execution_count": null,
   "metadata": {},
   "outputs": [],
   "source": []
  },
  {
   "cell_type": "code",
   "execution_count": null,
   "metadata": {},
   "outputs": [],
   "source": []
  },
  {
   "cell_type": "code",
   "execution_count": null,
   "metadata": {},
   "outputs": [],
   "source": []
  },
  {
   "cell_type": "code",
   "execution_count": null,
   "metadata": {},
   "outputs": [],
   "source": []
  },
  {
   "cell_type": "code",
   "execution_count": null,
   "metadata": {},
   "outputs": [],
   "source": []
  },
  {
   "cell_type": "code",
   "execution_count": null,
   "metadata": {},
   "outputs": [],
   "source": []
  },
  {
   "cell_type": "code",
   "execution_count": null,
   "metadata": {},
   "outputs": [],
   "source": []
  },
  {
   "cell_type": "code",
   "execution_count": null,
   "metadata": {},
   "outputs": [],
   "source": []
  },
  {
   "cell_type": "code",
   "execution_count": null,
   "metadata": {},
   "outputs": [],
   "source": []
  }
 ],
 "metadata": {
  "kernelspec": {
   "display_name": "vllm_new",
   "language": "python",
   "name": "python3"
  },
  "language_info": {
   "codemirror_mode": {
    "name": "ipython",
    "version": 3
   },
   "file_extension": ".py",
   "mimetype": "text/x-python",
   "name": "python",
   "nbconvert_exporter": "python",
   "pygments_lexer": "ipython3",
   "version": "3.10.16"
  }
 },
 "nbformat": 4,
 "nbformat_minor": 2
}

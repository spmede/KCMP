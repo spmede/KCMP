{
 "cells": [
  {
   "cell_type": "markdown",
   "id": "6caf2008",
   "metadata": {},
   "source": [
    "We constructed a benchmark based on the publicly released [DAM model](https://describe-anything.github.io/) to enable transparent and controlled evaluation of membership inference attacks. \n",
    "\n",
    "200 member images were drawn from DAM’s [COCOStuff training set](https://huggingface.co/datasets/nvidia/describe-anything-dataset), and another 200 non-member images were sampled from COCOStuff with no overlap."
   ]
  },
  {
   "cell_type": "code",
   "execution_count": 7,
   "id": "d26a5032",
   "metadata": {},
   "outputs": [
    {
     "name": "stdout",
     "output_type": "stream",
     "text": [
      "400\n",
      "{'image': <PIL.JpegImagePlugin.JpegImageFile image mode=RGB size=480x640 at 0x7FE03CB0AC70>, 'label': 1, 'image_file': '000000474785.jpg'}\n"
     ]
    }
   ],
   "source": [
    "# load the dataset as follow\n",
    "from datasets import load_from_disk\n",
    "used_dataset = load_from_disk('DAM_IID_dataset')\n",
    "dataset_length = len(used_dataset)\n",
    "print(dataset_length)\n",
    "\n",
    "# check one sample\n",
    "sample_id = 0\n",
    "print(used_dataset[sample_id])\n",
    "# used_dataset[0]['image']"
   ]
  },
  {
   "cell_type": "code",
   "execution_count": null,
   "id": "f4f0439a",
   "metadata": {},
   "outputs": [],
   "source": []
  }
 ],
 "metadata": {
  "kernelspec": {
   "display_name": "nlp",
   "language": "python",
   "name": "python3"
  },
  "language_info": {
   "codemirror_mode": {
    "name": "ipython",
    "version": 3
   },
   "file_extension": ".py",
   "mimetype": "text/x-python",
   "name": "python",
   "nbconvert_exporter": "python",
   "pygments_lexer": "ipython3",
   "version": "3.9.18"
  }
 },
 "nbformat": 4,
 "nbformat_minor": 5
}
